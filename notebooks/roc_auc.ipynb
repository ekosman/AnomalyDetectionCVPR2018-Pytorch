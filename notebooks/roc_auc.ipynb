{
 "cells": [
  {
   "cell_type": "code",
   "execution_count": null,
   "metadata": {
    "id": "kYheGDLdAP7N"
   },
   "outputs": [],
   "source": [
    "import os\n",
    "import sys\n",
    "import torch\n",
    "import torch.backends.cudnn as cudnn\n",
    "from tqdm import tqdm\n",
    "from sklearn.metrics import roc_curve, auc\n",
    "import matplotlib.pyplot as plt\n",
    "from os import path\n",
    "import numpy as np\n",
    "\n",
    "module_path = os.path.abspath(os.path.join(\"..\"))\n",
    "if module_path not in sys.path:\n",
    "    sys.path.append(module_path)\n",
    "\n",
    "from network.TorchUtils import TorchModel\n",
    "from features_loader import FeaturesLoaderVal\n",
    "from utils.utils import get_torch_device"
   ]
  },
  {
   "cell_type": "code",
   "execution_count": null,
   "metadata": {
    "colab": {
     "base_uri": "https://localhost:8080/",
     "height": 357
    },
    "id": "3K90dmBgAu8A",
    "outputId": "8b75ff61-be29-4fde-c14d-9fa715295b11"
   },
   "outputs": [],
   "source": [
    "!nvidia-smi"
   ]
  },
  {
   "cell_type": "markdown",
   "metadata": {},
   "source": [
    "# Definitions"
   ]
  },
  {
   "cell_type": "code",
   "execution_count": null,
   "metadata": {},
   "outputs": [],
   "source": [
    "features_path = \"\"  # path to features\n",
    "annotation_path = \"Test_Annotation.txt\"  # path to annotations\n",
    "model_path = \"./exps/model.weights\"  # set logging file\n",
    "\n",
    "# enable cudnn tune\n",
    "cudnn.benchmark = True\n",
    "device = get_torch_device()  # will use GPU if available, CPU otherwise"
   ]
  },
  {
   "cell_type": "markdown",
   "metadata": {},
   "source": [
    "# Load dataset and detection model"
   ]
  },
  {
   "cell_type": "code",
   "execution_count": null,
   "metadata": {},
   "outputs": [],
   "source": [
    "data_loader = FeaturesLoaderVal(\n",
    "    features_path=args.features_path, annotation_path=args.annotation_path\n",
    ")\n",
    "data_iter = torch.utils.data.DataLoader(\n",
    "    data_loader,\n",
    "    batch_size=1,\n",
    "    shuffle=False,\n",
    "    num_workers=0,  # 4, # change this part accordingly\n",
    "    pin_memory=True,\n",
    ")\n",
    "\n",
    "model = TorchModel.load_model(args.model_path).to(device).eval()"
   ]
  },
  {
   "cell_type": "markdown",
   "metadata": {},
   "source": [
    "# Predict scores"
   ]
  },
  {
   "cell_type": "code",
   "execution_count": null,
   "metadata": {},
   "outputs": [],
   "source": [
    "y_trues = torch.tensor([])\n",
    "y_preds = torch.tensor([])\n",
    "\n",
    "with torch.no_grad():\n",
    "    for features, start_end_couples, lengths in tqdm(data_iter):\n",
    "        # features is a batch where each item is a tensor of 32 4096D features\n",
    "        features = features.to(device)\n",
    "        outputs = model(features).squeeze(-1)  # (batch_size, 32)\n",
    "        for vid_len, couples, output in zip(\n",
    "            lengths, start_end_couples, outputs.cpu().numpy()\n",
    "        ):\n",
    "            y_true = np.zeros(vid_len)\n",
    "            y_pred = np.zeros(vid_len)\n",
    "\n",
    "            segments_len = vid_len // 32\n",
    "            for couple in couples:\n",
    "                if couple[0] != -1:\n",
    "                    y_true[couple[0] : couple[1]] = 1\n",
    "\n",
    "            for i in range(32):\n",
    "                segment_start_frame = i * segments_len\n",
    "                segment_end_frame = (i + 1) * segments_len\n",
    "                y_pred[segment_start_frame:segment_end_frame] = output[i]\n",
    "\n",
    "            if y_trues is None:\n",
    "                y_trues = y_true\n",
    "                y_preds = y_pred\n",
    "            else:\n",
    "                y_trues = np.concatenate([y_trues, y_true])\n",
    "                y_preds = np.concatenate([y_preds, y_pred])"
   ]
  },
  {
   "cell_type": "markdown",
   "metadata": {},
   "source": [
    "## Calculate ROC-AUC and plot the graph"
   ]
  },
  {
   "cell_type": "code",
   "execution_count": null,
   "metadata": {},
   "outputs": [],
   "source": [
    "fpr, tpr, thresholds = roc_curve(y_true=y_trues, y_score=y_preds, pos_label=1)\n",
    "\n",
    "plt.figure()\n",
    "lw = 2\n",
    "roc_auc = auc(fpr, tpr)\n",
    "plt.plot(\n",
    "    fpr, tpr, color=\"darkorange\", lw=lw, label=\"ROC curve (area = %0.2f)\" % roc_auc\n",
    ")\n",
    "plt.plot([0, 1], [0, 1], color=\"navy\", lw=lw, linestyle=\"--\")\n",
    "plt.xlim([0.0, 1.0])\n",
    "plt.ylim([0.0, 1.05])\n",
    "plt.xlabel(\"False Positive Rate\")\n",
    "plt.ylabel(\"True Positive Rate\")\n",
    "plt.legend(loc=\"lower right\")\n",
    "\n",
    "os.makedirs(\"graphs\", exist_ok=True)\n",
    "plt.savefig(path.join(\"graphs\", \"roc_auc.png\"))\n",
    "plt.close()\n",
    "print(\"ROC curve (area = %0.2f)\" % roc_auc)"
   ]
  }
 ],
 "metadata": {
  "accelerator": "GPU",
  "colab": {
   "name": "ROC.ipynb",
   "provenance": []
  },
  "kernelspec": {
   "display_name": "Python 3",
   "language": "python",
   "name": "python3"
  },
  "language_info": {
   "codemirror_mode": {
    "name": "ipython",
    "version": 3
   },
   "file_extension": ".py",
   "mimetype": "text/x-python",
   "name": "python",
   "nbconvert_exporter": "python",
   "pygments_lexer": "ipython3",
   "version": "3.6.4"
  }
 },
 "nbformat": 4,
 "nbformat_minor": 1
}
