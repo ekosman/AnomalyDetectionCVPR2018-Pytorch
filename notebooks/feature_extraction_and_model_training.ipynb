{
 "cells": [
  {
   "cell_type": "code",
   "execution_count": null,
   "metadata": {},
   "outputs": [],
   "source": [
    "import os\n",
    "import sys\n",
    "import torch\n",
    "import torch.backends.cudnn as cudnn\n",
    "from os import path, mkdir\n",
    "import logging\n",
    "from torch.utils.tensorboard import SummaryWriter\n",
    "\n",
    "module_path = os.path.abspath(os.path.join(\"..\"))\n",
    "if module_path not in sys.path:\n",
    "    sys.path.append(module_path)\n",
    "\n",
    "from feature_extractor import FeaturesWriter, get_features_loader\n",
    "from utils.utils import register_logger, get_torch_device\n",
    "from utils.load_model import load_feature_extractor\n",
    "from features_loader import FeaturesLoader\n",
    "from network.TorchUtils import TorchModel\n",
    "from network.anomaly_detector_model import (\n",
    "    AnomalyDetector,\n",
    "    custom_objective,\n",
    "    RegularizedLoss,\n",
    ")\n",
    "from utils.callbacks import DefaultModelCallback, TensorBoardCallback"
   ]
  },
  {
   "cell_type": "markdown",
   "metadata": {},
   "source": [
    "# Definitions"
   ]
  },
  {
   "cell_type": "markdown",
   "metadata": {},
   "source": [
    "## Global definitions"
   ]
  },
  {
   "cell_type": "code",
   "execution_count": null,
   "metadata": {},
   "outputs": [],
   "source": [
    "log_every = 50  # log the writing of clips every n steps\n",
    "log_file = None  # set logging file\n",
    "num_workers = 32  # define the number of workers used for loading the videos\n",
    "\n",
    "cudnn.benchmark = True\n",
    "register_logger(log_file=log_file)\n",
    "\n",
    "device = get_torch_device()  # will use GPU if available, CPU otherwise"
   ]
  },
  {
   "cell_type": "markdown",
   "metadata": {},
   "source": [
    "## Definitions of features extraction"
   ]
  },
  {
   "cell_type": "code",
   "execution_count": null,
   "metadata": {},
   "outputs": [],
   "source": [
    "dataset_path = \"\"  # path to the video dataset\n",
    "clip_length = 16  # define the length of each input sample\n",
    "frame_interval = 1  # define the sampling interval between frames\n",
    "features_dir = \"\"  # set directory for the features\n",
    "batch_size = 4\n",
    "model_type = \"c3d\"\n",
    "pretrained_3d = \"\"  # set the path of the 3d feature extractor"
   ]
  },
  {
   "cell_type": "markdown",
   "metadata": {},
   "source": [
    "## Definitions of training"
   ]
  },
  {
   "cell_type": "code",
   "execution_count": null,
   "metadata": {},
   "outputs": [],
   "source": [
    "annotation_path = \"\"  # path to train annotation\n",
    "exps_dir = \"\"  # path to the directory where models and tensorboard would be saved\n",
    "feature_dim = 4096\n",
    "save_every = 1  # epochs interval for saving the model checkpoints\n",
    "lr_base = 0.01  # learning rate\n",
    "iterations_per_epoch = 20000  # number of training iterations\n",
    "epochs = 2  # number of training epochs\n",
    "\n",
    "\n",
    "models_dir = path.join(exps_dir, \"models\")\n",
    "tb_dir = path.join(exps_dir, \"tensorboard\")\n",
    "\n",
    "os.makedirs(exps_dir, exist_ok=True)\n",
    "os.makedirs(models_dir, exist_ok=True)\n",
    "os.makedirs(tb_dir, exist_ok=True)"
   ]
  },
  {
   "cell_type": "markdown",
   "metadata": {},
   "source": [
    "# Features Extraction"
   ]
  },
  {
   "cell_type": "markdown",
   "metadata": {},
   "source": [
    "## Create model and dataset"
   ]
  },
  {
   "cell_type": "code",
   "execution_count": null,
   "metadata": {},
   "outputs": [],
   "source": [
    "data_loader, data_iter = get_features_loader(\n",
    "    args.dataset_path, clip_length, frame_interval, batch_size, num_workers, model_type\n",
    ")\n",
    "\n",
    "network = load_feature_extractor(args.model_type, args.pretrained_3d, device).eval()\n",
    "\n",
    "features_writer = FeaturesWriter(num_videos=data_loader.video_count)"
   ]
  },
  {
   "cell_type": "code",
   "execution_count": null,
   "metadata": {},
   "outputs": [],
   "source": [
    "if not path.exists(features_dir):\n",
    "    mkdir(features_dir)"
   ]
  },
  {
   "cell_type": "code",
   "execution_count": null,
   "metadata": {},
   "outputs": [],
   "source": [
    "loop_i = 0\n",
    "with torch.no_grad():\n",
    "    for data, clip_idxs, dirs, vid_names in data_iter:\n",
    "        outputs = network(data.to(device)).detach().cpu().numpy()\n",
    "\n",
    "        for i, (dir, vid_name, clip_idx) in enumerate(zip(dirs, vid_names, clip_idxs)):\n",
    "            if loop_i == 0:\n",
    "                logging.info(\n",
    "                    f\"Video {features_writer.dump_count} / {features_writer.num_videos} : Writing clip {clip_idx} of video {vid_name}\"\n",
    "                )\n",
    "\n",
    "            loop_i += 1\n",
    "            loop_i %= args.log_every\n",
    "\n",
    "            dir = path.join(args.save_dir, dir)\n",
    "            features_writer.write(\n",
    "                feature=outputs[i],\n",
    "                video_name=vid_name,\n",
    "                idx=clip_idx,\n",
    "                dir=dir,\n",
    "            )\n",
    "\n",
    "features_writer.dump()"
   ]
  },
  {
   "cell_type": "markdown",
   "metadata": {},
   "source": [
    "# Train the Anomaly Detection Model Using the Extracted Features"
   ]
  },
  {
   "cell_type": "markdown",
   "metadata": {},
   "source": [
    "## Create model, dataset, optimizer and loss function"
   ]
  },
  {
   "cell_type": "code",
   "execution_count": null,
   "metadata": {},
   "outputs": [],
   "source": [
    "train_loader = FeaturesLoader(\n",
    "    features_path=features_dir,\n",
    "    annotation_path=annotation_path,\n",
    "    iterations=iterations_per_epoch,\n",
    ")\n",
    "\n",
    "network = AnomalyDetector(args.feature_dim)\n",
    "model = TorchModel(network).to(device).train()\n",
    "\n",
    "# Callbacks\n",
    "model.register_callback(DefaultModelCallback(visualization_dir=args.exps_dir))\n",
    "model.register_callback(TensorBoardCallback(tb_writer=SummaryWriter(log_dir=tb_dir)))\n",
    "\n",
    "# Training parameters\n",
    "\"\"\"\n",
    "In the original paper:\n",
    "    lr = 0.01\n",
    "    epsilon = 1e-8\n",
    "\"\"\"\n",
    "optimizer = torch.optim.Adadelta(model.parameters(), lr=args.lr_base, eps=1e-8)\n",
    "\n",
    "criterion = RegularizedLoss(network, custom_objective).to(device)"
   ]
  },
  {
   "cell_type": "markdown",
   "metadata": {},
   "source": [
    "## Train the model"
   ]
  },
  {
   "cell_type": "code",
   "execution_count": null,
   "metadata": {},
   "outputs": [],
   "source": [
    "model.fit(\n",
    "    train_iter=train_loader,\n",
    "    criterion=criterion,\n",
    "    optimizer=optimizer,\n",
    "    epochs=epochs,\n",
    "    network_model_path_base=models_dir,\n",
    "    save_every=save_every,\n",
    ")"
   ]
  }
 ],
 "metadata": {
  "kernelspec": {
   "display_name": "Python 3",
   "language": "python",
   "name": "python3"
  },
  "language_info": {
   "codemirror_mode": {
    "name": "ipython",
    "version": 3
   },
   "file_extension": ".py",
   "mimetype": "text/x-python",
   "name": "python",
   "nbconvert_exporter": "python",
   "pygments_lexer": "ipython3",
   "version": "3.6.4"
  }
 },
 "nbformat": 4,
 "nbformat_minor": 4
}
